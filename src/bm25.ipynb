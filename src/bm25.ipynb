{
 "cells": [
  {
   "cell_type": "code",
   "execution_count": 1,
   "metadata": {},
   "outputs": [],
   "source": [
    "from pprint import pprint\n",
    "from rank_bm25 import BM25Okapi\n",
    "import random\n",
    "\n",
    "from bm25 import BM25"
   ]
  },
  {
   "cell_type": "code",
   "execution_count": 2,
   "metadata": {},
   "outputs": [],
   "source": [
    "train_0_path = '../data/yelp/sentiment.train.0'\n",
    "train_1_path = '../data/yelp/sentiment.train.1'\n",
    "\n",
    "with open(train_0_path, 'r', encoding=\"utf-8\") as f:\n",
    "    train_0 = f.read(-1).splitlines()\n",
    "with open(train_1_path, 'r', encoding=\"utf-8\") as f:\n",
    "    train_1 = f.read(-1).splitlines()\n"
   ]
  },
  {
   "cell_type": "code",
   "execution_count": 3,
   "metadata": {},
   "outputs": [
    {
     "name": "stdout",
     "output_type": "stream",
     "text": [
      "['i was sadly mistaken .',\n",
      " 'so on to the hoagies , the italian is general run of the mill .',\n",
      " 'minimal meat and a ton of shredded lettuce .',\n",
      " 'nothing really special & not worthy of the $ _num_ price tag .',\n",
      " 'second , the steak hoagie , it is atrocious .',\n",
      " 'i had to pay $ _num_ to add cheese to the hoagie .',\n",
      " 'she told me there was a charge for the dressing on the side .',\n",
      " 'are you kidding me ?',\n",
      " 'i was not going to pay for the dressing on the side .',\n",
      " 'i ordered it without lettuce , tomato , onions , or dressing .']\n"
     ]
    }
   ],
   "source": [
    "# show data\n",
    "pprint(train_0[:10])"
   ]
  },
  {
   "cell_type": "code",
   "execution_count": 4,
   "metadata": {},
   "outputs": [],
   "source": [
    "bm25 = BM25(train_0)"
   ]
  },
  {
   "cell_type": "code",
   "execution_count": 7,
   "metadata": {},
   "outputs": [
    {
     "name": "stdout",
     "output_type": "stream",
     "text": [
      "1: this is a great shop for gardening for beginners ( me ) and experts .\n",
      "0: would not recommend for beginners .\n",
      "====================\n",
      "1: they are excellent to work with and do great work .\n",
      "0: they are awful to work with .\n",
      "====================\n",
      "1: the store is very clean and the staff are always friendly and helpful .\n",
      "0: it is always a mess and the staff is not very friendly .\n",
      "====================\n",
      "1: always a fan of this place !\n",
      "0: not a big fan of this place !\n",
      "====================\n",
      "1: the manager is all about great service ; which is efficient and quick .\n",
      "0: cold and all business which is efficient but not welcoming .\n",
      "====================\n"
     ]
    }
   ],
   "source": [
    "# query = \"this place was very good .\"\n",
    "\n",
    "times = 5\n",
    "\n",
    "for _ in range(times):\n",
    "    sentence = random.sample(train_1, 1)[0]\n",
    "    print(\"1:\", sentence)\n",
    "    print(\"0:\", bm25.query_top_one(sentence))\n",
    "    print(\"=\"*20)"
   ]
  },
  {
   "cell_type": "code",
   "execution_count": null,
   "metadata": {},
   "outputs": [],
   "source": []
  }
 ],
 "metadata": {
  "kernelspec": {
   "display_name": "tst",
   "language": "python",
   "name": "python3"
  },
  "language_info": {
   "codemirror_mode": {
    "name": "ipython",
    "version": 3
   },
   "file_extension": ".py",
   "mimetype": "text/x-python",
   "name": "python",
   "nbconvert_exporter": "python",
   "pygments_lexer": "ipython3",
   "version": "3.11.5"
  }
 },
 "nbformat": 4,
 "nbformat_minor": 2
}
