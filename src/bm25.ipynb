{
 "cells": [
  {
   "cell_type": "code",
   "execution_count": 24,
   "metadata": {},
   "outputs": [
    {
     "ename": "ImportError",
     "evalue": "cannot import name 'BM25' from 'bm25' (/home/fucloud/Code/2023/llama2/src/bm25.py)",
     "output_type": "error",
     "traceback": [
      "\u001b[0;31m---------------------------------------------------------------------------\u001b[0m",
      "\u001b[0;31mImportError\u001b[0m                               Traceback (most recent call last)",
      "\u001b[1;32m/home/fucloud/Code/2023/llama2/src/bm25.ipynb Cell 1\u001b[0m line \u001b[0;36m5\n\u001b[1;32m      <a href='vscode-notebook-cell://ssh-remote%2Barch/home/fucloud/Code/2023/llama2/src/bm25.ipynb#W0sdnNjb2RlLXJlbW90ZQ%3D%3D?line=1'>2</a>\u001b[0m \u001b[39mfrom\u001b[39;00m \u001b[39mrank_bm25\u001b[39;00m \u001b[39mimport\u001b[39;00m BM25Okapi\n\u001b[1;32m      <a href='vscode-notebook-cell://ssh-remote%2Barch/home/fucloud/Code/2023/llama2/src/bm25.ipynb#W0sdnNjb2RlLXJlbW90ZQ%3D%3D?line=2'>3</a>\u001b[0m \u001b[39mimport\u001b[39;00m \u001b[39mrandom\u001b[39;00m\n\u001b[0;32m----> <a href='vscode-notebook-cell://ssh-remote%2Barch/home/fucloud/Code/2023/llama2/src/bm25.ipynb#W0sdnNjb2RlLXJlbW90ZQ%3D%3D?line=4'>5</a>\u001b[0m \u001b[39mfrom\u001b[39;00m \u001b[39mbm25\u001b[39;00m \u001b[39mimport\u001b[39;00m BM25\n",
      "\u001b[0;31mImportError\u001b[0m: cannot import name 'BM25' from 'bm25' (/home/fucloud/Code/2023/llama2/src/bm25.py)"
     ]
    }
   ],
   "source": [
    "from pprint import pprint\n",
    "from rank_bm25 import BM25Okapi\n",
    "import random\n",
    "\n",
    "from src.bm25 import BM25"
   ]
  },
  {
   "cell_type": "code",
   "execution_count": 13,
   "metadata": {},
   "outputs": [],
   "source": [
    "train_0_path = '../data/yelp/sentiment.train.0'\n",
    "train_1_path = '../data/yelp/sentiment.train.1'\n",
    "\n",
    "with open(train_0_path, 'r', encoding=\"utf-8\") as f:\n",
    "    train_0 = f.read(-1).splitlines()\n",
    "with open(train_1_path, 'r', encoding=\"utf-8\") as f:\n",
    "    train_1 = f.read(-1).splitlines()\n"
   ]
  },
  {
   "cell_type": "code",
   "execution_count": 14,
   "metadata": {},
   "outputs": [
    {
     "name": "stdout",
     "output_type": "stream",
     "text": [
      "['i was sadly mistaken .',\n",
      " 'so on to the hoagies , the italian is general run of the mill .',\n",
      " 'minimal meat and a ton of shredded lettuce .',\n",
      " 'nothing really special & not worthy of the $ _num_ price tag .',\n",
      " 'second , the steak hoagie , it is atrocious .',\n",
      " 'i had to pay $ _num_ to add cheese to the hoagie .',\n",
      " 'she told me there was a charge for the dressing on the side .',\n",
      " 'are you kidding me ?',\n",
      " 'i was not going to pay for the dressing on the side .',\n",
      " 'i ordered it without lettuce , tomato , onions , or dressing .']\n"
     ]
    }
   ],
   "source": [
    "# show data\n",
    "pprint(train_0[:10])"
   ]
  },
  {
   "cell_type": "code",
   "execution_count": 20,
   "metadata": {},
   "outputs": [],
   "source": [
    "bm25 = BM25(train_0)"
   ]
  },
  {
   "cell_type": "code",
   "execution_count": 21,
   "metadata": {},
   "outputs": [
    {
     "name": "stdout",
     "output_type": "stream",
     "text": [
      "1: i had the veal parmigiana , and it was tender and perfectly breaded .\n",
      "0: the veal parmigiana was horrid .\n",
      "====================\n",
      "1: they have a great selection of clothing , in a variety of sizes .\n",
      "0: they have a variety of stuff , but not a good selection of anything .\n",
      "====================\n",
      "1: very very very good beer selection .\n",
      "0: their beer selection is not very good .\n",
      "====================\n",
      "1: i would recommend this place to visitors and residents .\n",
      "0: i would n't recommend this place .\n",
      "====================\n",
      "1: i know we will the next time & we will definitely be back !\n",
      "0: next time we will not going back .\n",
      "====================\n"
     ]
    }
   ],
   "source": [
    "# query = \"this place was very good .\"\n",
    "\n",
    "times = 5\n",
    "\n",
    "for _ in range(times):\n",
    "    sentence = random.sample(train_1, 1)[0]\n",
    "    print(\"1:\", sentence)\n",
    "    print(\"0:\", bm25.query(sentence)[0])\n",
    "    print(\"=\"*20)"
   ]
  },
  {
   "cell_type": "code",
   "execution_count": null,
   "metadata": {},
   "outputs": [],
   "source": []
  }
 ],
 "metadata": {
  "kernelspec": {
   "display_name": "tst",
   "language": "python",
   "name": "python3"
  },
  "language_info": {
   "codemirror_mode": {
    "name": "ipython",
    "version": 3
   },
   "file_extension": ".py",
   "mimetype": "text/x-python",
   "name": "python",
   "nbconvert_exporter": "python",
   "pygments_lexer": "ipython3",
   "version": "3.11.5"
  }
 },
 "nbformat": 4,
 "nbformat_minor": 2
}
