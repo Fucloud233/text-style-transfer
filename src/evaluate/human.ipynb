{
 "cells": [
  {
   "cell_type": "code",
   "execution_count": 1,
   "metadata": {},
   "outputs": [
    {
     "name": "stderr",
     "output_type": "stream",
     "text": [
      "/home/fucloud/miniconda3/envs/tst/lib/python3.11/site-packages/tqdm/auto.py:21: TqdmWarning: IProgress not found. Please update jupyter and ipywidgets. See https://ipywidgets.readthedocs.io/en/stable/user_install.html\n",
      "  from .autonotebook import tqdm as notebook_tqdm\n"
     ]
    }
   ],
   "source": [
    "import os; os.chdir('../..')\n",
    "\n",
    "import sys; sys.path.append('../..')\n",
    "\n",
    "import random\n",
    "from main import Evaluator\n",
    "from utils.config import BotType\n",
    "from utils.file import read_json"
   ]
  },
  {
   "cell_type": "code",
   "execution_count": 2,
   "metadata": {},
   "outputs": [
    {
     "name": "stdout",
     "output_type": "stream",
     "text": [
      "/home/fucloud/Code/2023/llama2\n"
     ]
    }
   ],
   "source": [
    "number = 1500\n",
    "bot_kind = BotType.Llama_7B\n",
    "dataset_name = 'yelp'\n",
    "retrieval_kinds = [\n",
    "    'null', \n",
    "    'random', \n",
    "    'bm25', 'gtr', \n",
    "    'mix_bm25', 'mix_gtr'\n",
    "]\n",
    "retrieval_num = 4\n",
    "\n",
    "file_path = \"output/{}_{}_0_{}/{}/{}_transfer.json\"\n",
    "\n",
    "import os\n",
    "print(os.path.abspath(\".\"))\n",
    "\n",
    "sentences_list = {}\n",
    "for kind in retrieval_kinds:\n",
    "    \n",
    "    path = file_path.format(bot_kind.value, dataset_name, number, kind, retrieval_num if kind != 'null' else 0)\n",
    "    sentences_list[kind] = read_json(path)\n"
   ]
  },
  {
   "cell_type": "code",
   "execution_count": 13,
   "metadata": {},
   "outputs": [],
   "source": [
    "N = 100"
   ]
  },
  {
   "cell_type": "code",
   "execution_count": 5,
   "metadata": {},
   "outputs": [],
   "source": [
    "evaluator = Evaluator(dataset_name)"
   ]
  },
  {
   "cell_type": "code",
   "execution_count": 37,
   "metadata": {},
   "outputs": [
    {
     "name": "stdout",
     "output_type": "stream",
     "text": [
      "1337\n",
      "====================================================================================================\n",
      "source    | ended up being the starter motor , and $ _num_ .\n",
      "====================================================================================================\n",
      "null      | ended up being the starter motor, and $ _num_ . \n",
      "----------------------------------------------------------------------------------------------------\n",
      "style   : 100.0  | content : 100.0  | fluency : 380.7  | GM      : 100.0  | HM      : 100.0  | \n",
      "====================================================================================================\n",
      "random    | turned out to be the starter motor after all, and only cost $ _num_ ! \n",
      "----------------------------------------------------------------------------------------------------\n",
      "style   : 100.0  | content : 21.67  | fluency : 432.9  | GM      : 46.55  | HM      : 35.62  | \n",
      "====================================================================================================\n",
      "bm25      | ended up being the perfect starter motor for $ _num_ . \n",
      "----------------------------------------------------------------------------------------------------\n",
      "style   : 100.0  | content : 52.66  | fluency : 750.5  | GM      : 72.57  | HM      : 68.99  | \n",
      "====================================================================================================\n",
      "gtr       | ended up being the starter motor , and almost $ _num_ . \n",
      "----------------------------------------------------------------------------------------------------\n",
      "style   : 100.0  | content : 78.25  | fluency : 612.3  | GM      : 88.46  | HM      : 87.8   | \n",
      "====================================================================================================\n",
      "mix_bm25  | ended up being the star of the show , and $ _num_ . \n",
      "----------------------------------------------------------------------------------------------------\n",
      "style   : 100.0  | content : 57.03  | fluency : 267.7  | GM      : 75.52  | HM      : 72.64  | \n",
      "====================================================================================================\n",
      "mix_gtr   | ended up being the star of the show , and $ _num_ . \n",
      "----------------------------------------------------------------------------------------------------\n",
      "style   : 100.0  | content : 57.03  | fluency : 267.7  | GM      : 75.52  | HM      : 72.64  | \n",
      "====================================================================================================\n"
     ]
    }
   ],
   "source": [
    "i = random.randint(0, 1500)\n",
    "print(i)\n",
    "\n",
    "print('=' * N)\n",
    "print(\"%-10s| %s\"%(\"source\", sentences_list['null'][i]['0']))\n",
    "for (kind, sentences) in sentences_list.items():\n",
    "    print('=' * N)\n",
    "    print(\"%-10s| %s\"%(kind, sentences[i]['1']))\n",
    "    print('-' * N)\n",
    "\n",
    "    eval_result = evaluator.evaluate(sentences[i])\n",
    "    for key, value in eval_result.items():\n",
    "        print(\"%-8s: %-6s | \" % (key, str(value)), end=\"\")\n",
    "    print()\n",
    "    # if kind != 'null':\n",
    "        # divide()\n",
    "        # print('prompt', '\\t', sentences[i]['prompt'])\n",
    "print('=' * N)"
   ]
  },
  {
   "cell_type": "code",
   "execution_count": null,
   "metadata": {},
   "outputs": [],
   "source": []
  },
  {
   "cell_type": "code",
   "execution_count": null,
   "metadata": {},
   "outputs": [],
   "source": []
  },
  {
   "cell_type": "code",
   "execution_count": null,
   "metadata": {},
   "outputs": [],
   "source": []
  }
 ],
 "metadata": {
  "kernelspec": {
   "display_name": "tst",
   "language": "python",
   "name": "python3"
  },
  "language_info": {
   "codemirror_mode": {
    "name": "ipython",
    "version": 3
   },
   "file_extension": ".py",
   "mimetype": "text/x-python",
   "name": "python",
   "nbconvert_exporter": "python",
   "pygments_lexer": "ipython3",
   "version": "3.11.5"
  }
 },
 "nbformat": 4,
 "nbformat_minor": 2
}
