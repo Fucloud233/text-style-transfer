{
 "cells": [
  {
   "cell_type": "code",
   "execution_count": 4,
   "id": "4f34c3bb-8584-4a31-be7e-c6b7dc366506",
   "metadata": {},
   "outputs": [],
   "source": [
    "from transformers import pipeline\n",
    "\n",
    "MODEL_PATH = \"/home/mailab017/data_mailab017/hucheng/models/roberta\""
   ]
  },
  {
   "cell_type": "code",
   "execution_count": 5,
   "id": "6a7935c4-0e6e-4d15-bd60-667558efbbd2",
   "metadata": {},
   "outputs": [
    {
     "name": "stderr",
     "output_type": "stream",
     "text": [
      "Using /home/mailab017/.cache/torch_extensions/py311_cu118 as PyTorch extensions root...\n",
      "Detected CUDA files, patching ldflags\n",
      "Failed to load CUDA kernels. Mra requires custom CUDA kernels. Please verify that compatible versions of PyTorch and CUDA Toolkit are installed: CUDA_HOME environment variable is not set. Please set it to your CUDA install root.\n",
      "Xformers is not installed correctly. If you want to use memory_efficient_attention to accelerate training use the following command to install Xformers\n",
      "pip install xformers.\n"
     ]
    }
   ],
   "source": [
    "test_model_path = './model/checkpoint-3470/'\n",
    "\n",
    "# config = AutoConfig.from_pretrained(test_model_path, local_files_only=True)\n",
    "# config.update({\"id2label\": {\n",
    "#     \"0\": \"negative\",\n",
    "#     \"1\": \"positive\"\n",
    "# }})\n",
    "\n",
    "classifier = pipeline(task=\"sentiment-analysis\", model=test_model_path, tokenizer=MODEL_PATH)"
   ]
  },
  {
   "cell_type": "code",
   "execution_count": 10,
   "id": "518ee2c1-b24f-4d50-8210-8e2259f4a236",
   "metadata": {},
   "outputs": [
    {
     "name": "stdout",
     "output_type": "stream",
     "text": [
      "[{'label': 'LABEL_0', 'score': 0.9922783374786377}]\n",
      "[{'label': 'LABEL_0', 'score': 0.9922400712966919}]\n",
      "[{'label': 'LABEL_0', 'score': 0.992151141166687}]\n",
      "[{'label': 'LABEL_1', 'score': 0.9194602370262146}]\n",
      "[{'label': 'LABEL_0', 'score': 0.9922216534614563}]\n",
      "[{'label': 'LABEL_1', 'score': 0.919460117816925}]\n",
      "[{'label': 'LABEL_1', 'score': 0.9194602966308594}]\n",
      "[{'label': 'LABEL_1', 'score': 0.919460117816925}]\n",
      "[{'label': 'LABEL_1', 'score': 0.9194602370262146}]\n",
      "[{'label': 'LABEL_1', 'score': 0.9194602370262146}]\n"
     ]
    }
   ],
   "source": [
    "# text = \"second , the steie , it is atrocious .\"\n",
    "# preds = classifier(\"ok never going back to this place again .\")\n",
    "# # print('result:', result)\n",
    "# print(preds)\n",
    "\n",
    "test_cases = [\n",
    "    (\"the $ _num_ minimum charge to use a credit card is also annoying .\", 0),\n",
    "    (\"sorry but i do n't get the rave reviews for this place .\", 0),\n",
    "    (\"the desserts were very bland .\", 0),\n",
    "    (\"the cake portion was extremely light and a bit dry .\", 0),\n",
    "    (\"it was super dry and had a weird taste to the entire slice .\", 0),\n",
    "    (\"excellent chinese and superb service .\", 1),\n",
    "    (\"my favorite chinese food in az !\", 1),\n",
    "    (\"it 's full of fresh ingredients , light and tasty .\", 1),\n",
    "    (\"we had the shrimp with vegetables and shrimp fried rice - both lovely .\", 1),\n",
    "    (\"they 're quite generous with the shrimp !\", 1),\n",
    "]\n",
    "for test_case in test_cases:\n",
    "    preds = classifier(test_case[0])\n",
    "    print(preds)"
   ]
  },
  {
   "cell_type": "code",
   "execution_count": null,
   "id": "aa215d49-0fdb-4c82-a212-bf63dff57de8",
   "metadata": {},
   "outputs": [],
   "source": []
  }
 ],
 "metadata": {
  "kernelspec": {
   "display_name": "tst",
   "language": "python",
   "name": "tst"
  },
  "language_info": {
   "codemirror_mode": {
    "name": "ipython",
    "version": 3
   },
   "file_extension": ".py",
   "mimetype": "text/x-python",
   "name": "python",
   "nbconvert_exporter": "python",
   "pygments_lexer": "ipython3",
   "version": "3.11.5"
  }
 },
 "nbformat": 4,
 "nbformat_minor": 5
}
